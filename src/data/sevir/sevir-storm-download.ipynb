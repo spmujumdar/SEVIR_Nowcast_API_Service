{
 "cells": [
  {
   "cell_type": "code",
   "execution_count": 1,
   "id": "a2ffb1f3",
   "metadata": {},
   "outputs": [],
   "source": [
    "# importing libraries\n",
    "import boto3\n",
    "from botocore.handlers import disable_signing\n",
    "resource = boto3.resource('s3')\n",
    "resource.meta.client.meta.events.register('choose-signer.s3.*', disable_signing)\n",
    "bucket=resource.Bucket('sevir')"
   ]
  },
  {
   "cell_type": "code",
   "execution_count": null,
   "id": "f85badbd",
   "metadata": {},
   "outputs": [],
   "source": [
    "# CATALOG.csv\n",
    "# bucket.download_file('CATALOG.csv','neurips-2020-sevir-master/data/CATALOG.csv')\n",
    "\n",
    "# vil (input, output)\n",
    "bucket.download_file('data/vil/2019/SEVIR_VIL_STORMEVENTS_2019_0101_0630.h5','vil/2019/SEVIR_VIL_STORMEVENTS_2019_0101_0630.h5')"
   ]
  },
  {
   "cell_type": "code",
   "execution_count": null,
   "id": "d41323b6",
   "metadata": {},
   "outputs": [],
   "source": []
  }
 ],
 "metadata": {
  "kernelspec": {
   "display_name": "Python 3 (ipykernel)",
   "language": "python",
   "name": "python3"
  },
  "language_info": {
   "codemirror_mode": {
    "name": "ipython",
    "version": 3
   },
   "file_extension": ".py",
   "mimetype": "text/x-python",
   "name": "python",
   "nbconvert_exporter": "python",
   "pygments_lexer": "ipython3",
   "version": "3.7.12"
  }
 },
 "nbformat": 4,
 "nbformat_minor": 5
}
